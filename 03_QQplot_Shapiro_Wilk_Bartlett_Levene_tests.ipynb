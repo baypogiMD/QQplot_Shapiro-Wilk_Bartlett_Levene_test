{
  "nbformat": 4,
  "nbformat_minor": 0,
  "metadata": {
    "colab": {
      "name": "03 - QQplot Shapiro-Wilk Bartlett Levene tests.ipynb",
      "provenance": [],
      "collapsed_sections": []
    },
    "kernelspec": {
      "name": "python3",
      "display_name": "Python 3"
    }
  },
  "cells": [
    {
      "cell_type": "markdown",
      "metadata": {
        "id": "ZVgZFMPShts3"
      },
      "source": [
        "# Tests use to check the assumptions of ANOVA\n",
        "1. QQ plot\n",
        "2. Shapiro-Wilk test\n",
        "3. Bartlett's test\n",
        "4. Levene's test"
      ]
    },
    {
      "cell_type": "code",
      "metadata": {
        "id": "WuKye644iCq_"
      },
      "source": [
        "# Import the necessary libraries\n",
        "\n",
        "import pandas as pd\n",
        "import numpy as np\n",
        "import matplotlib.pyplot as plt\n",
        "import statsmodels.api as sm\n",
        "import scipy.stats as stats"
      ],
      "execution_count": null,
      "outputs": []
    },
    {
      "cell_type": "code",
      "metadata": {
        "colab": {
          "base_uri": "https://localhost:8080/",
          "height": 224
        },
        "id": "dD-_hzHPirdm",
        "outputId": "c5aa6f25-d2ad-4994-8e90-1c038f0dfcfd"
      },
      "source": [
        "# Import the dataset\n",
        "\n",
        "diabetes = pd.read_csv('diabetesRCT180.csv')\n",
        "diabetes.head()"
      ],
      "execution_count": null,
      "outputs": [
        {
          "output_type": "execute_result",
          "data": {
            "text/html": [
              "<div>\n",
              "<style scoped>\n",
              "    .dataframe tbody tr th:only-of-type {\n",
              "        vertical-align: middle;\n",
              "    }\n",
              "\n",
              "    .dataframe tbody tr th {\n",
              "        vertical-align: top;\n",
              "    }\n",
              "\n",
              "    .dataframe thead th {\n",
              "        text-align: right;\n",
              "    }\n",
              "</style>\n",
              "<table border=\"1\" class=\"dataframe\">\n",
              "  <thead>\n",
              "    <tr style=\"text-align: right;\">\n",
              "      <th></th>\n",
              "      <th>Patient_ID</th>\n",
              "      <th>Age</th>\n",
              "      <th>BMI</th>\n",
              "      <th>Status</th>\n",
              "      <th>Sex</th>\n",
              "      <th>HbA1c_0</th>\n",
              "      <th>HbA1c_6</th>\n",
              "      <th>HbA1c_12</th>\n",
              "      <th>Systolic_0</th>\n",
              "      <th>Systolic_6</th>\n",
              "      <th>Systolic_12</th>\n",
              "      <th>Aspirin_0</th>\n",
              "      <th>Aspirin_6</th>\n",
              "      <th>Aspirin_12</th>\n",
              "      <th>Education</th>\n",
              "    </tr>\n",
              "  </thead>\n",
              "  <tbody>\n",
              "    <tr>\n",
              "      <th>0</th>\n",
              "      <td>131</td>\n",
              "      <td>64</td>\n",
              "      <td>31.66</td>\n",
              "      <td>0</td>\n",
              "      <td>1</td>\n",
              "      <td>8.0</td>\n",
              "      <td>7.4</td>\n",
              "      <td>8.1</td>\n",
              "      <td>140</td>\n",
              "      <td>166</td>\n",
              "      <td>136</td>\n",
              "      <td>0</td>\n",
              "      <td>0</td>\n",
              "      <td>0</td>\n",
              "      <td>1</td>\n",
              "    </tr>\n",
              "    <tr>\n",
              "      <th>1</th>\n",
              "      <td>140</td>\n",
              "      <td>31</td>\n",
              "      <td>25.23</td>\n",
              "      <td>1</td>\n",
              "      <td>0</td>\n",
              "      <td>11.0</td>\n",
              "      <td>10.2</td>\n",
              "      <td>12.6</td>\n",
              "      <td>131</td>\n",
              "      <td>120</td>\n",
              "      <td>110</td>\n",
              "      <td>0</td>\n",
              "      <td>1</td>\n",
              "      <td>1</td>\n",
              "      <td>1</td>\n",
              "    </tr>\n",
              "    <tr>\n",
              "      <th>2</th>\n",
              "      <td>159</td>\n",
              "      <td>70</td>\n",
              "      <td>27.17</td>\n",
              "      <td>0</td>\n",
              "      <td>0</td>\n",
              "      <td>8.7</td>\n",
              "      <td>9.6</td>\n",
              "      <td>11.0</td>\n",
              "      <td>110</td>\n",
              "      <td>140</td>\n",
              "      <td>140</td>\n",
              "      <td>1</td>\n",
              "      <td>1</td>\n",
              "      <td>1</td>\n",
              "      <td>0</td>\n",
              "    </tr>\n",
              "    <tr>\n",
              "      <th>3</th>\n",
              "      <td>173</td>\n",
              "      <td>45</td>\n",
              "      <td>36.21</td>\n",
              "      <td>1</td>\n",
              "      <td>1</td>\n",
              "      <td>15.2</td>\n",
              "      <td>6.4</td>\n",
              "      <td>6.7</td>\n",
              "      <td>130</td>\n",
              "      <td>144</td>\n",
              "      <td>158</td>\n",
              "      <td>1</td>\n",
              "      <td>1</td>\n",
              "      <td>1</td>\n",
              "      <td>2</td>\n",
              "    </tr>\n",
              "    <tr>\n",
              "      <th>4</th>\n",
              "      <td>98</td>\n",
              "      <td>46</td>\n",
              "      <td>41.88</td>\n",
              "      <td>1</td>\n",
              "      <td>0</td>\n",
              "      <td>9.0</td>\n",
              "      <td>7.3</td>\n",
              "      <td>6.9</td>\n",
              "      <td>136</td>\n",
              "      <td>136</td>\n",
              "      <td>124</td>\n",
              "      <td>0</td>\n",
              "      <td>1</td>\n",
              "      <td>1</td>\n",
              "      <td>1</td>\n",
              "    </tr>\n",
              "  </tbody>\n",
              "</table>\n",
              "</div>"
            ],
            "text/plain": [
              "   Patient_ID  Age    BMI  Status  ...  Aspirin_0  Aspirin_6  Aspirin_12  Education\n",
              "0         131   64  31.66       0  ...          0          0           0          1\n",
              "1         140   31  25.23       1  ...          0          1           1          1\n",
              "2         159   70  27.17       0  ...          1          1           1          0\n",
              "3         173   45  36.21       1  ...          1          1           1          2\n",
              "4          98   46  41.88       1  ...          0          1           1          1\n",
              "\n",
              "[5 rows x 15 columns]"
            ]
          },
          "metadata": {
            "tags": []
          },
          "execution_count": 14
        }
      ]
    },
    {
      "cell_type": "markdown",
      "metadata": {
        "id": "AAzs0APSjAgy"
      },
      "source": [
        "## QQ plot\n",
        "Ideally, if the samples come from a normally distributed population, the points should be lying near the 45 degree straight line."
      ]
    },
    {
      "cell_type": "code",
      "metadata": {
        "colab": {
          "base_uri": "https://localhost:8080/",
          "height": 541
        },
        "id": "mX6AhzzDjCG4",
        "outputId": "5b8b96ec-12b5-4a68-dda9-636dfdf486f6"
      },
      "source": [
        "Hb12 = diabetes['HbA1c_12']\n",
        "sm.qqplot(Hb12, line='45')"
      ],
      "execution_count": null,
      "outputs": [
        {
          "output_type": "execute_result",
          "data": {
            "image/png": "[encoded data removed]",
            "text/plain": [
              "<Figure size 432x288 with 1 Axes>"
            ]
          },
          "metadata": {
            "tags": []
          },
          "execution_count": 27
        },
        {
          "output_type": "display_data",
          "data": {
            "image/png": "[encoded data removed]",
            "text/plain": [
              "<Figure size 432x288 with 1 Axes>"
            ]
          },
          "metadata": {
            "tags": [],
            "needs_background": "light"
          }
        }
      ]
    },
    {
      "cell_type": "markdown",
      "metadata": {
        "id": "oPvSM7pW3U9J"
      },
      "source": [
        "The above actual data from our dataset, specifically the measure of glucose as HbA1c on 12th month, is not normally distributed."
      ]
    },
    {
      "cell_type": "code",
      "metadata": {
        "colab": {
          "base_uri": "https://localhost:8080/",
          "height": 541
        },
        "id": "OOfqXY2rj1n8",
        "outputId": "9572717f-7aa6-4daf-d5a0-1f00bf56ee65"
      },
      "source": [
        "IdealGlucose = np.random.normal(0, 1, 180)\n",
        "sm.qqplot(IdealGlucose, line='45')"
      ],
      "execution_count": null,
      "outputs": [
        {
          "output_type": "execute_result",
          "data": {
            "image/png": "[encoded data removed]",
            "text/plain": [
              "<Figure size 432x288 with 1 Axes>"
            ]
          },
          "metadata": {
            "tags": []
          },
          "execution_count": 43
        },
        {
          "output_type": "display_data",
          "data": {
            "image/png": "[encoded data removed]",
            "text/plain": [
              "<Figure size 432x288 with 1 Axes>"
            ]
          },
          "metadata": {
            "tags": [],
            "needs_background": "light"
          }
        }
      ]
    },
    {
      "cell_type": "markdown",
      "metadata": {
        "id": "zfhG5mfG3llk"
      },
      "source": [
        "The random generated dataset above has a normal distribution because almost all the points are lying in the 45 degree line."
      ]
    },
    {
      "cell_type": "markdown",
      "metadata": {
        "id": "XE5frU3p4Wf2"
      },
      "source": [
        "## Shapiro-Wilk Test\n",
        "Use to check the **normal distribution of residuals**.\n",
        "<br>\n",
        "$H_0$: The data is drawn from a normal distribution\n",
        "<br>\n",
        "$H_1$: The data is not drawn from a normal distribution\n",
        "<br>\n",
        "$\\alpha = 0.05$"
      ]
    },
    {
      "cell_type": "code",
      "metadata": {
        "colab": {
          "base_uri": "https://localhost:8080/"
        },
        "id": "SaVmISDe2HIV",
        "outputId": "46689ad5-be2d-4339-d30f-9303d447b6e7"
      },
      "source": [
        "# Perform Shapiro-Wilk test on the 12th month HbA1c level\n",
        "ShapiroWilk, pval = stats.shapiro(Hb12)\n",
        "ShapiroWilk, pval"
      ],
      "execution_count": null,
      "outputs": [
        {
          "output_type": "execute_result",
          "data": {
            "text/plain": [
              "(0.9162387847900391, 1.2724584941281591e-08)"
            ]
          },
          "metadata": {
            "tags": []
          },
          "execution_count": 44
        }
      ]
    },
    {
      "cell_type": "markdown",
      "metadata": {
        "id": "YUIhURYO5luQ"
      },
      "source": [
        "The resulting p-value is 1.27e-18 which is smaller than 0.05, which means that we will reject the null hypothesis. Our dataset was not drawn from a normal distribution."
      ]
    },
    {
      "cell_type": "code",
      "metadata": {
        "colab": {
          "base_uri": "https://localhost:8080/"
        },
        "id": "npPU_pG38Vm_",
        "outputId": "139ebe7c-6875-4efe-b874-88ecad343a87"
      },
      "source": [
        "# Perform Shapiro-Wilk test on the Ideal Glucose level\n",
        "ShapiroWilk, pval = stats.shapiro(IdealGlucose)\n",
        "ShapiroWilk, pval"
      ],
      "execution_count": null,
      "outputs": [
        {
          "output_type": "execute_result",
          "data": {
            "text/plain": [
              "(0.9914979338645935, 0.3689068555831909)"
            ]
          },
          "metadata": {
            "tags": []
          },
          "execution_count": 45
        }
      ]
    },
    {
      "cell_type": "markdown",
      "metadata": {
        "id": "_y0F-y_s88sF"
      },
      "source": [
        "The resulting p-value is 0.37 which is larger than 0.05, which means that we will not reject the null hypothesis. Our dataset was drawn from a normal distribution."
      ]
    },
    {
      "cell_type": "markdown",
      "metadata": {
        "id": "ZQ-YpsET6ch8"
      },
      "source": [
        "## Bartlett's test\n",
        "Use to check the **homogeneity of variances**.\n",
        "<br>\n",
        "$H_0$: The samples drawn from the population have equal variances.\n",
        "<br>\n",
        "$H_1$: The samples drawn from the population do not have equal variances.\n",
        "<br>\n",
        "$\\alpha = 0.05$"
      ]
    },
    {
      "cell_type": "code",
      "metadata": {
        "colab": {
          "base_uri": "https://localhost:8080/"
        },
        "id": "7CnkCTX14uob",
        "outputId": "2ae5abfe-dfd3-4c48-ce0a-87c9b50bc735"
      },
      "source": [
        "# Create subset containing the other glucose measurements\n",
        "Hb0 = diabetes['HbA1c_0']\n",
        "Hb6 = diabetes['HbA1c_6']\n",
        "\n",
        "# Perform a Bartlett's test on all glucose measurements\n",
        "from scipy.stats import bartlett\n",
        "Bstat, pval = bartlett(Hb0, Hb6, Hb12)\n",
        "Bstat, pval"
      ],
      "execution_count": null,
      "outputs": [
        {
          "output_type": "execute_result",
          "data": {
            "text/plain": [
              "(6.1521777501534824, 0.0461393610189372)"
            ]
          },
          "metadata": {
            "tags": []
          },
          "execution_count": 52
        }
      ]
    },
    {
      "cell_type": "markdown",
      "metadata": {
        "id": "Y--Sc7TN-GD2"
      },
      "source": [
        "The resulting p-value is 0.046 which is smaller than 0.05, which means that we will reject the null hypothesis. Our samples are drawn from the population that do not have equal variances."
      ]
    },
    {
      "cell_type": "markdown",
      "metadata": {
        "id": "0wceZVu9-vCT"
      },
      "source": [
        "## Levene's test\n",
        "Use to check the homogeneity of variances when the dataset didn't comes from a normal distribution\n",
        "$\\alpha = 0.05$"
      ]
    },
    {
      "cell_type": "code",
      "metadata": {
        "colab": {
          "base_uri": "https://localhost:8080/"
        },
        "id": "OXWK_9vU9WG9",
        "outputId": "8134bb6e-18b2-41db-ebbd-ace94230fcd9"
      },
      "source": [
        "Lstat, pval = stats.levene(Hb0, Hb6, Hb12)\n",
        "Lstat, pval"
      ],
      "execution_count": null,
      "outputs": [
        {
          "output_type": "execute_result",
          "data": {
            "text/plain": [
              "(0.943130462152465, 0.39005094685163044)"
            ]
          },
          "metadata": {
            "tags": []
          },
          "execution_count": 51
        }
      ]
    },
    {
      "cell_type": "markdown",
      "metadata": {
        "id": "d1ZhibWE_4zS"
      },
      "source": [
        "The resulting p-value is 0.39 which is larger than 0.05, which means that we will not reject the null hypothesis. The groups have no significant difference in their variability."
      ]
    },
    {
      "cell_type": "code",
      "metadata": {
        "id": "hxs-7Jat_QU3"
      },
      "source": [
        ""
      ],
      "execution_count": null,
      "outputs": []
    }
  ]
}